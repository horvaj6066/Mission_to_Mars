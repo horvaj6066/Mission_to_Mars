{
 "cells": [
  {
   "cell_type": "code",
   "execution_count": 8,
   "metadata": {},
   "outputs": [],
   "source": [
    "#import BeatuifulSoup\n",
    "from bs4 import BeautifulSoup\n",
    "from splinter import Browser\n",
    "#set the executable path for the chrome browser\n",
    "executable_path = {'executable_path': 'chromedriver.exe'}\n",
    "##executable_path = {'executable_path': './chromedriver.exe'}\n",
    "browser = Browser('chrome', **executable_path) \n",
    "        "
   ]
  },
  {
   "cell_type": "code",
   "execution_count": 9,
   "metadata": {},
   "outputs": [],
   "source": [
    "#Visit the mars NASA news site\n",
    "url = 'https://mars.nasa.gov/news/' \n",
    "browser.visit(url)\n"
   ]
  },
  {
   "cell_type": "code",
   "execution_count": 10,
   "metadata": {},
   "outputs": [],
   "source": [
    "html= browser.html\n",
    "news_soup= BeautifulSoup(html, 'html.parser')\n",
    "#print(news_soup)\n",
    "#slide element, everything in the  <ul class=\"item_list\" \n",
    "# <li class = \"slide\">\n",
    "# ...\n",
    "#</\n",
    "slide_element = news_soup.select_one('ul.item_list li.slide')\n"
   ]
  },
  {
   "cell_type": "code",
   "execution_count": 11,
   "metadata": {},
   "outputs": [
    {
     "name": "stdout",
     "output_type": "stream",
     "text": [
      "<li class=\"slide\"><div class=\"image_and_description_container\"><a href=\"/news/8432/insight-captures-sunrise-and-sunset-on-mars/\" target=\"_self\"><div class=\"rollover_description\"><div class=\"rollover_description_inner\">InSight joins the rest of NASA's Red Planet surface missions, all of which have photographed either the start or end of a Martian day.</div><div class=\"overlay_arrow\"><img alt=\"More\" src=\"/assets/overlay-arrow.png\"/></div></div><div class=\"list_image\"><img alt=\"NASA's InSight lander used its Instrument Deployment Camera (IDC) on the spacecraft's robotic arm to image this sunrise on Mars on April 24, 2019, the 145th Martian day (or sol) of the mission. This was taken around 5:30 a.m. Mars local time.\" src=\"/system/news_items/list_view_images/8432_PIA23202_raw-320x240.jpg\"/></div><div class=\"bottom_gradient\"><div><h3>InSight Captures Sunrise and Sunset on Mars</h3></div></div></a><div class=\"list_text\"><div class=\"list_date\">May  1, 2019</div><div class=\"content_title\"><a href=\"/news/8432/insight-captures-sunrise-and-sunset-on-mars/\" target=\"_self\">InSight Captures Sunrise and Sunset on Mars</a></div><div class=\"article_teaser_body\">InSight joins the rest of NASA's Red Planet surface missions, all of which have photographed either the start or end of a Martian day.</div></div></div></li>\n"
     ]
    }
   ],
   "source": [
    "print(slide_element)"
   ]
  },
  {
   "cell_type": "code",
   "execution_count": 12,
   "metadata": {},
   "outputs": [
    {
     "data": {
      "text/plain": [
       "<div class=\"content_title\"><a href=\"/news/8432/insight-captures-sunrise-and-sunset-on-mars/\" target=\"_self\">InSight Captures Sunrise and Sunset on Mars</a></div>"
      ]
     },
     "execution_count": 12,
     "metadata": {},
     "output_type": "execute_result"
    }
   ],
   "source": [
    "slide_element.find(\"div\", class_=\"content_title\") #at 35 mins in video, finally working!!"
   ]
  },
  {
   "cell_type": "code",
   "execution_count": 13,
   "metadata": {},
   "outputs": [
    {
     "data": {
      "text/plain": [
       "'InSight Captures Sunrise and Sunset on Mars'"
      ]
     },
     "execution_count": 13,
     "metadata": {},
     "output_type": "execute_result"
    }
   ],
   "source": [
    "slide_element.find(\"div\",class_=\"content_title\").get_text()\n",
    "news_title = slide_element.find('div', class_='content_title').get_text() #it's not finding this class, play around withh this\n",
    "news_title #worked, got the title \n"
   ]
  },
  {
   "cell_type": "code",
   "execution_count": 14,
   "metadata": {},
   "outputs": [
    {
     "data": {
      "text/plain": [
       "\"InSight joins the rest of NASA's Red Planet surface missions, all of which have photographed either the start or end of a Martian day.\""
      ]
     },
     "execution_count": 14,
     "metadata": {},
     "output_type": "execute_result"
    }
   ],
   "source": [
    "news_paragraph = slide_element.find('div', class_=\"article_teaser_body\").get_text() #get_text() on the end is like strip\n",
    "news_paragraph"
   ]
  },
  {
   "cell_type": "code",
   "execution_count": 15,
   "metadata": {},
   "outputs": [],
   "source": [
    "#visit \n",
    "url= 'https://www.jpl.nasa.gov/spaceimages/?seach=&category=Mars'\n",
    "browser.visit(url)\n"
   ]
  },
  {
   "cell_type": "code",
   "execution_count": 16,
   "metadata": {},
   "outputs": [],
   "source": [
    "#ask splinter to click on the button with class name 'full image'\n",
    "#<button class ='full_image'>Full Image</button>\n",
    "full_image_button = browser.find_by_id('full_image')\n",
    "full_image_button.click()"
   ]
  },
  {
   "cell_type": "code",
   "execution_count": 17,
   "metadata": {},
   "outputs": [],
   "source": [
    "#find the more info button and click that \n",
    "browser.is_element_present_by_text('more info', wait_time=1)\n",
    "more_info_element = browser.find_link_by_partial_text('more info')\n",
    "more_info_element.click()\n"
   ]
  },
  {
   "cell_type": "code",
   "execution_count": 18,
   "metadata": {},
   "outputs": [],
   "source": [
    "#parse the results with HTML soup\n",
    "html = browser.html \n",
    "image_soup= BeautifulSoup(html, 'html.parser') \n"
   ]
  },
  {
   "cell_type": "code",
   "execution_count": 19,
   "metadata": {},
   "outputs": [
    {
     "data": {
      "text/plain": [
       "'/spaceimages/images/largesize/PIA13911_hires.jpg'"
      ]
     },
     "execution_count": 19,
     "metadata": {},
     "output_type": "execute_result"
    }
   ],
   "source": [
    "#get the image\n",
    "img_url = image_soup.select_one('figure.lede a img').get('src')\n",
    "img_url"
   ]
  },
  {
   "cell_type": "code",
   "execution_count": 20,
   "metadata": {},
   "outputs": [
    {
     "data": {
      "text/plain": [
       "'https://www.jpl.nasa.gov/spaceimages/images/largesize/PIA13911_hires.jpg'"
      ]
     },
     "execution_count": 20,
     "metadata": {},
     "output_type": "execute_result"
    }
   ],
   "source": [
    "#use the base url to create an absolute url \n",
    "img_url= f'https://www.jpl.nasa.gov{img_url}'\n",
    "img_url"
   ]
  },
  {
   "cell_type": "code",
   "execution_count": 35,
   "metadata": {},
   "outputs": [],
   "source": [
    "#set the executable path for the chrome browser\n",
    "executable_path = {'executable_path': 'chromedriver.exe'}\n",
    "#executable_path = {'executable_path': './chromedriver.exe'}\n",
    "browser = Browser('chrome', **executable_path) \n",
    "url = 'https://twitter.com/marswxreport?lang=en'\n",
    "browser.visit(url)"
   ]
  },
  {
   "cell_type": "code",
   "execution_count": 36,
   "metadata": {},
   "outputs": [],
   "source": [
    "html=browser.html \n",
    "weather_soup= BeautifulSoup(html, 'html.parser')"
   ]
  },
  {
   "cell_type": "code",
   "execution_count": 37,
   "metadata": {},
   "outputs": [],
   "source": [
    "#first find a tweet witht the data name 'Mars Weather' \n",
    "mars_weather_tweet = weather_soup.find('div', \n",
    "                                       attrs={\n",
    "                                           \"class\": \"tweet\",\n",
    "                                           \"data-name\": \"Mars Weather\"\n",
    "                                       }) "
   ]
  },
  {
   "cell_type": "code",
   "execution_count": 38,
   "metadata": {},
   "outputs": [
    {
     "data": {
      "text/plain": [
       "'InSight sol 155 (2019-05-04) low -99.3ºC (-146.8ºF) high -18.8ºC (-1.8ºF)\\nwinds from the SW at 4.5 m/s (10.1 mph) gusting to 14.3 m/s (31.9 mph)\\npressure at 7.40 hPapic.twitter.com/wEcSHS2b3u'"
      ]
     },
     "execution_count": 38,
     "metadata": {},
     "output_type": "execute_result"
    }
   ],
   "source": [
    "# Next search withing the tweet for p tag containing the tweet text\n",
    "mars_weather = mars_weather_tweet.find('p', 'tweet-text').get_text()\n",
    "mars_weather"
   ]
  },
  {
   "cell_type": "code",
   "execution_count": 39,
   "metadata": {},
   "outputs": [],
   "source": [
    "url= 'https://astrogeology.usgs.gov/search/results?q=hemisphere+enhanced&k1=target&v1=Mars'\n",
    "browser.visit(url)\n"
   ]
  },
  {
   "cell_type": "code",
   "execution_count": 40,
   "metadata": {},
   "outputs": [
    {
     "name": "stdout",
     "output_type": "stream",
     "text": [
      "[<splinter.driver.webdriver.WebDriverElement object at 0x0000022BE578F2E8>, <splinter.driver.webdriver.WebDriverElement object at 0x0000022BE578F3C8>, <splinter.driver.webdriver.WebDriverElement object at 0x0000022BE578F668>, <splinter.driver.webdriver.WebDriverElement object at 0x0000022BE578F2B0>]\n"
     ]
    }
   ],
   "source": [
    "hemisphere_image_urls= [] \n",
    "#First get a list og all the hemispheres \n",
    "links=browser.find_by_css('a.product-item h3') \n",
    "print(links)"
   ]
  },
  {
   "cell_type": "code",
   "execution_count": 45,
   "metadata": {},
   "outputs": [
    {
     "name": "stdout",
     "output_type": "stream",
     "text": [
      "<splinter.driver.webdriver.WebDriverElement object at 0x0000022BE579C668>\n",
      "{'img_url': 'http://astropedia.astrogeology.usgs.gov/download/Mars/Viking/cerberus_enhanced.tif/full.jpg'}\n",
      "<splinter.driver.webdriver.WebDriverElement object at 0x0000022BE579C5C0>\n",
      "{'img_url': 'http://astropedia.astrogeology.usgs.gov/download/Mars/Viking/schiaparelli_enhanced.tif/full.jpg'}\n",
      "<splinter.driver.webdriver.WebDriverElement object at 0x0000022BE579C940>\n",
      "{'img_url': 'http://astropedia.astrogeology.usgs.gov/download/Mars/Viking/syrtis_major_enhanced.tif/full.jpg'}\n",
      "<splinter.driver.webdriver.WebDriverElement object at 0x0000022BE579CA58>\n",
      "{'img_url': 'http://astropedia.astrogeology.usgs.gov/download/Mars/Viking/valles_marineris_enhanced.tif/full.jpg'}\n"
     ]
    }
   ],
   "source": [
    "#could not get this one to work and then website went down 5/6/2019 9:11AM\n",
    "for item in range(len(links)):  #going through each of the thumbnails and grabbing the description and image, four of them I think \n",
    "    hemisphere = {} #make hemisphere a dictionary\n",
    "    \n",
    "    #we have to find the element on each loop to avoid a stale element exception\n",
    "    browser.find_by_css('a.product-item h3')[item].click() #go thru each item and click on it   \n",
    "    \n",
    "    #next we find the sample image anchor tag and extract the href\n",
    "    sample_element =  browser.find_link_by_text('Sample').first #sample is the slightly smaller of the two high resversions  \n",
    "    #this line is now working but had problems with it ******************************************\n",
    "    \n",
    "    print(sample_element)\n",
    "    hemisphere['img_url'] = sample_element['href']\n",
    "    print(hemisphere)\n",
    "    \n",
    "    #Get Hemisphere title \n",
    "    hemisphere['title']=browser.find_by_css('h2.title').text\n",
    "    \n",
    "    #Append hemispere object to list \n",
    "    hemisphere_image_urls.append(hemisphere)\n",
    "    \n",
    "    #Finally, we navigate backward\n",
    "    browser.back()\n",
    "    "
   ]
  },
  {
   "cell_type": "code",
   "execution_count": 46,
   "metadata": {},
   "outputs": [
    {
     "name": "stdout",
     "output_type": "stream",
     "text": [
      "[{'img_url': 'http://astropedia.astrogeology.usgs.gov/download/Mars/Viking/cerberus_enhanced.tif/full.jpg', 'title': 'Cerberus Hemisphere Enhanced'}, {'img_url': 'http://astropedia.astrogeology.usgs.gov/download/Mars/Viking/schiaparelli_enhanced.tif/full.jpg', 'title': 'Schiaparelli Hemisphere Enhanced'}, {'img_url': 'http://astropedia.astrogeology.usgs.gov/download/Mars/Viking/syrtis_major_enhanced.tif/full.jpg', 'title': 'Syrtis Major Hemisphere Enhanced'}, {'img_url': 'http://astropedia.astrogeology.usgs.gov/download/Mars/Viking/valles_marineris_enhanced.tif/full.jpg', 'title': 'Valles Marineris Hemisphere Enhanced'}, {'img_url': 'http://astropedia.astrogeology.usgs.gov/download/Mars/Viking/cerberus_enhanced.tif/full.jpg', 'title': 'Cerberus Hemisphere Enhanced'}, {'img_url': 'http://astropedia.astrogeology.usgs.gov/download/Mars/Viking/schiaparelli_enhanced.tif/full.jpg', 'title': 'Schiaparelli Hemisphere Enhanced'}, {'img_url': 'http://astropedia.astrogeology.usgs.gov/download/Mars/Viking/syrtis_major_enhanced.tif/full.jpg', 'title': 'Syrtis Major Hemisphere Enhanced'}, {'img_url': 'http://astropedia.astrogeology.usgs.gov/download/Mars/Viking/valles_marineris_enhanced.tif/full.jpg', 'title': 'Valles Marineris Hemisphere Enhanced'}, {'img_url': 'http://astropedia.astrogeology.usgs.gov/download/Mars/Viking/cerberus_enhanced.tif/full.jpg', 'title': 'Cerberus Hemisphere Enhanced'}, {'img_url': 'http://astropedia.astrogeology.usgs.gov/download/Mars/Viking/schiaparelli_enhanced.tif/full.jpg', 'title': 'Schiaparelli Hemisphere Enhanced'}, {'img_url': 'http://astropedia.astrogeology.usgs.gov/download/Mars/Viking/syrtis_major_enhanced.tif/full.jpg', 'title': 'Syrtis Major Hemisphere Enhanced'}, {'img_url': 'http://astropedia.astrogeology.usgs.gov/download/Mars/Viking/valles_marineris_enhanced.tif/full.jpg', 'title': 'Valles Marineris Hemisphere Enhanced'}]\n"
     ]
    }
   ],
   "source": [
    "print(hemisphere_image_urls)  #works!!!"
   ]
  },
  {
   "cell_type": "code",
   "execution_count": 33,
   "metadata": {},
   "outputs": [
    {
     "name": "stdout",
     "output_type": "stream",
     "text": [
      "                      0                              1\n",
      "0  Equatorial Diameter:                       6,792 km\n",
      "1       Polar Diameter:                       6,752 km\n",
      "2                 Mass:  6.42 x 10^23 kg (10.7% Earth)\n",
      "3                Moons:            2 (Phobos & Deimos)\n",
      "4       Orbit Distance:       227,943,824 km (1.52 AU)\n",
      "5         Orbit Period:           687 days (1.9 years)\n",
      "6  Surface Temperature:                  -153 to 20 °C\n",
      "7         First Record:              2nd millennium BC\n",
      "8          Recorded By:           Egyptian astronomers\n"
     ]
    },
    {
     "data": {
      "text/html": [
       "<div>\n",
       "<style scoped>\n",
       "    .dataframe tbody tr th:only-of-type {\n",
       "        vertical-align: middle;\n",
       "    }\n",
       "\n",
       "    .dataframe tbody tr th {\n",
       "        vertical-align: top;\n",
       "    }\n",
       "\n",
       "    .dataframe thead th {\n",
       "        text-align: right;\n",
       "    }\n",
       "</style>\n",
       "<table border=\"1\" class=\"dataframe\">\n",
       "  <thead>\n",
       "    <tr style=\"text-align: right;\">\n",
       "      <th></th>\n",
       "      <th>value</th>\n",
       "    </tr>\n",
       "    <tr>\n",
       "      <th>description</th>\n",
       "      <th></th>\n",
       "    </tr>\n",
       "  </thead>\n",
       "  <tbody>\n",
       "    <tr>\n",
       "      <th>Equatorial Diameter:</th>\n",
       "      <td>6,792 km</td>\n",
       "    </tr>\n",
       "    <tr>\n",
       "      <th>Polar Diameter:</th>\n",
       "      <td>6,752 km</td>\n",
       "    </tr>\n",
       "    <tr>\n",
       "      <th>Mass:</th>\n",
       "      <td>6.42 x 10^23 kg (10.7% Earth)</td>\n",
       "    </tr>\n",
       "    <tr>\n",
       "      <th>Moons:</th>\n",
       "      <td>2 (Phobos &amp; Deimos)</td>\n",
       "    </tr>\n",
       "    <tr>\n",
       "      <th>Orbit Distance:</th>\n",
       "      <td>227,943,824 km (1.52 AU)</td>\n",
       "    </tr>\n",
       "    <tr>\n",
       "      <th>Orbit Period:</th>\n",
       "      <td>687 days (1.9 years)</td>\n",
       "    </tr>\n",
       "    <tr>\n",
       "      <th>Surface Temperature:</th>\n",
       "      <td>-153 to 20 °C</td>\n",
       "    </tr>\n",
       "    <tr>\n",
       "      <th>First Record:</th>\n",
       "      <td>2nd millennium BC</td>\n",
       "    </tr>\n",
       "    <tr>\n",
       "      <th>Recorded By:</th>\n",
       "      <td>Egyptian astronomers</td>\n",
       "    </tr>\n",
       "  </tbody>\n",
       "</table>\n",
       "</div>"
      ],
      "text/plain": [
       "                                              value\n",
       "description                                        \n",
       "Equatorial Diameter:                       6,792 km\n",
       "Polar Diameter:                            6,752 km\n",
       "Mass:                 6.42 x 10^23 kg (10.7% Earth)\n",
       "Moons:                          2 (Phobos & Deimos)\n",
       "Orbit Distance:            227,943,824 km (1.52 AU)\n",
       "Orbit Period:                  687 days (1.9 years)\n",
       "Surface Temperature:                  -153 to 20 °C\n",
       "First Record:                     2nd millennium BC\n",
       "Recorded By:                   Egyptian astronomers"
      ]
     },
     "execution_count": 33,
     "metadata": {},
     "output_type": "execute_result"
    }
   ],
   "source": [
    "import pandas as pd\n",
    "df = pd.read_html('https://space-facts.com/mars/')[0]\n",
    "print(df)\n",
    "df.columns=['description','value']\n",
    "df.set_index('description', inplace=True)\n",
    "df\n",
    "browser.quit"
   ]
  },
  {
   "cell_type": "code",
   "execution_count": null,
   "metadata": {},
   "outputs": [],
   "source": []
  }
 ],
 "metadata": {
  "kernelspec": {
   "display_name": "Python 3",
   "language": "python",
   "name": "python3"
  },
  "language_info": {
   "codemirror_mode": {
    "name": "ipython",
    "version": 3
   },
   "file_extension": ".py",
   "mimetype": "text/x-python",
   "name": "python",
   "nbconvert_exporter": "python",
   "pygments_lexer": "ipython3",
   "version": "3.7.1"
  }
 },
 "nbformat": 4,
 "nbformat_minor": 2
}
